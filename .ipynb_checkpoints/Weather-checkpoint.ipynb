{
 "cells": [
  {
   "cell_type": "code",
   "execution_count": 11,
   "metadata": {},
   "outputs": [
    {
     "name": "stdout",
     "output_type": "stream",
     "text": [
      "Input a city name: Syracuse\n",
      "{'coord': {'lon': -76.15, 'lat': 43.05}, 'weather': [{'id': 701, 'main': 'Mist', 'description': 'mist', 'icon': '50n'}], 'base': 'stations', 'main': {'temp': 269.19, 'pressure': 1021, 'humidity': 92, 'temp_min': 267.55, 'temp_max': 270.35}, 'visibility': 9656, 'wind': {'speed': 2.51, 'deg': 115.502}, 'clouds': {'all': 90}, 'dt': 1544663700, 'sys': {'type': 1, 'id': 3050, 'message': 0.0036, 'country': 'US', 'sunrise': 1544704059, 'sunset': 1544736601}, 'id': 5140405, 'name': 'Syracuse', 'cod': 200}\n",
      "The weather in Syracuse is 25 Degrees Ferihient. There's a light chance of mist.\n"
     ]
    }
   ],
   "source": [
    "import requests\n",
    "\n",
    "\n",
    "city_input = input(\"Input a city name: \")\n",
    "#print(\"City: %s\" % city_input)\n",
    "weather_address = 'http://api.openweathermap.org/data/2.5/weather?appid=a078822a1b9ec351c0bf4c4534f3836d&q='\n",
    "\n",
    "url = weather_address + city_input\n",
    "\n",
    "json_data = requests.get(url).json()\n",
    "print(json_data)\n",
    "outside_weather_description = json_data['weather'][0]['description']\n",
    "outside_weather_kelvin = json_data['main']['temp']\n",
    "f_outside_temp = 9/5 * (outside_weather_kelvin - 273) + 32\n",
    "print(\"The weather in %s is %2.f Degrees Ferihient. There's a light chance of %s.\" % (city_input, f_outside_temp, outside_weather_description))\n",
    "\n"
   ]
  },
  {
   "cell_type": "code",
   "execution_count": null,
   "metadata": {},
   "outputs": [],
   "source": []
  }
 ],
 "metadata": {
  "kernelspec": {
   "display_name": "Python 3",
   "language": "python",
   "name": "python3"
  },
  "language_info": {
   "codemirror_mode": {
    "name": "ipython",
    "version": 3
   },
   "file_extension": ".py",
   "mimetype": "text/x-python",
   "name": "python",
   "nbconvert_exporter": "python",
   "pygments_lexer": "ipython3",
   "version": "3.6.6"
  }
 },
 "nbformat": 4,
 "nbformat_minor": 2
}
