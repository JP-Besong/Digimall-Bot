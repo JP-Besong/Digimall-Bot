{
 "cells": [
  {
   "cell_type": "code",
   "execution_count": 4,
   "metadata": {},
   "outputs": [
    {
     "name": "stdout",
     "output_type": "stream",
     "text": [
      "Input a city name: Buenos Aires\n",
      "City: Buenos Aires\n",
      "The weather in Buenos Aires is 74 Degrees Ferihient. There's a light chance of clear sky.\n"
     ]
    }
   ],
   "source": [
    "import requests\n",
    "\n",
    "\n",
    "city_input = input(\"Input a city name: \")\n",
    "print(\"City: %s\" % city_input)\n",
    "weather_address = 'http://api.openweathermap.org/data/2.5/weather?appid=e148f23cb4a2f3ff8b79cb52952938d5&q='\n",
    "\n",
    "url = weather_address + city_input\n",
    "\n",
    "json_data = requests.get(url).json()\n",
    "outside_weather_description = json_data['weather'][0]['description']\n",
    "outside_weather_kelvin = json_data['main']['temp']\n",
    "f_outside_temp = 9/5 * (outside_weather_kelvin - 273) + 32\n",
    "print(\"The weather in %s is %2.f Degrees Ferihient. There's a light chance of %s.\" % (city_input, f_outside_temp, outside_weather_description))\n",
    "\n"
   ]
  },
  {
   "cell_type": "code",
   "execution_count": null,
   "metadata": {},
   "outputs": [],
   "source": []
  }
 ],
 "metadata": {
  "kernelspec": {
   "display_name": "Python 3",
   "language": "python",
   "name": "python3"
  },
  "language_info": {
   "codemirror_mode": {
    "name": "ipython",
    "version": 3
   },
   "file_extension": ".py",
   "mimetype": "text/x-python",
   "name": "python",
   "nbconvert_exporter": "python",
   "pygments_lexer": "ipython3",
   "version": "3.6.6"
  }
 },
 "nbformat": 4,
 "nbformat_minor": 2
}
